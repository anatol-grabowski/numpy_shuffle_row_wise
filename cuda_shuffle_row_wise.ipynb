{
 "cells": [
  {
   "cell_type": "code",
   "execution_count": null,
   "metadata": {
    "_cell_guid": "b1076dfc-b9ad-4769-8c92-a6c4dae69d19",
    "_uuid": "8f2839f25d086af736a60e9eeb907d3b93b6e0e5"
   },
   "outputs": [],
   "source": [
    "import pycuda.driver as cuda\n",
    "import pycuda.autoinit\n",
    "from pycuda.compiler import SourceModule"
   ]
  },
  {
   "cell_type": "code",
   "execution_count": 2,
   "metadata": {
    "_cell_guid": "79c7e3d0-c299-4dcb-8224-4455121ee9b0",
    "_uuid": "d629ff2d2480ee46fbb7e2d37f6b5fab8052498a",
    "scrolled": true
   },
   "outputs": [
    {
     "data": {
      "text/plain": [
       "array([[2146318115, 1807009153, 1561418033, 1053861022],\n",
       "       [1018657457,  160920048, 1294831761,  149078618],\n",
       "       [ 821953232,  910358515, 1464311275,  169963125],\n",
       "       [1407982476, 1617435701,  685769209, 2016026574]], dtype=int32)"
      ]
     },
     "execution_count": 2,
     "metadata": {},
     "output_type": "execute_result"
    }
   ],
   "source": [
    "import numpy as np\n",
    "a = np.arange(4*4).reshape(4,4).astype(np.int64)\n",
    "r = np.random.randint(np.iinfo(np.int32).max, size=[4, 4]).astype(np.int32)\n",
    "r"
   ]
  },
  {
   "cell_type": "code",
   "execution_count": 3,
   "metadata": {
    "_uuid": "5f40442a307195e765114e781cdf8b8b85829750",
    "collapsed": true
   },
   "outputs": [],
   "source": [
    "a_gpu = cuda.mem_alloc(a.nbytes)\n",
    "cuda.memcpy_htod(a_gpu, a)"
   ]
  },
  {
   "cell_type": "code",
   "execution_count": 4,
   "metadata": {
    "_uuid": "dbfb38d2f29be32930baeafa20d1e85c36d0249e",
    "collapsed": true
   },
   "outputs": [],
   "source": [
    "mod_src = \"\"\"\n",
    "__global__ void doublify(long *a, int *r, int *shape)\n",
    "{\n",
    "  int row_len = shape[1];\n",
    "  int i_last = row_len - 2;\n",
    "  int i, j, idx1, idx2;\n",
    "  long tmp;\n",
    "  int n_rows = shape[0];\n",
    "  int row_n = blockIdx.x * blockDim.x + threadIdx.x;\n",
    "  if (row_n > n_rows-1) return;\n",
    "  int row_start_idx = row_n * row_len;\n",
    "  for (i = 0; i <= i_last; i++) {\n",
    "    idx1 = row_start_idx + i;\n",
    "    j = r[idx1] % (row_len - i) + i;\n",
    "    idx2 = row_start_idx + j;\n",
    "    \n",
    "    tmp = a[idx1];\n",
    "    a[idx1] = a[idx2];\n",
    "    a[idx2] = tmp;\n",
    "  }\n",
    "}\n",
    "\"\"\"\n",
    "mod = SourceModule(mod_src)\n",
    "func = mod.get_function(\"doublify\")"
   ]
  },
  {
   "cell_type": "code",
   "execution_count": 5,
   "metadata": {
    "_uuid": "c970bca1094bd937f55f2dc8dcc3f3ffc41b5e6f"
   },
   "outputs": [
    {
     "name": "stdout",
     "output_type": "stream",
     "text": [
      "[[ 3  2  0  1]\n",
      " [ 5  4  7  6]\n",
      " [ 8 10 11  9]\n",
      " [12 15 13 14]]\n",
      "[[ 0  1  2  3]\n",
      " [ 4  5  6  7]\n",
      " [ 8  9 10 11]\n",
      " [12 13 14 15]]\n"
     ]
    }
   ],
   "source": [
    "func(a_gpu, cuda.In(r), cuda.In(np.array(a.shape, dtype=np.int32)), block=(256,1,1), grid=(2,1,1))\n",
    "a_doubled = np.empty_like(a)\n",
    "cuda.memcpy_dtoh(a_doubled, a_gpu)\n",
    "print(a_doubled)\n",
    "print(a)"
   ]
  },
  {
   "cell_type": "code",
   "execution_count": 6,
   "metadata": {
    "_uuid": "cdb96239167020c66a8689419827e84615b22849",
    "collapsed": true
   },
   "outputs": [],
   "source": [
    "def shuffle_row_wise_cuda(a):\n",
    "    %time r = np.random.randint(np.iinfo(np.int32).max, size=a.shape).astype(np.int32) # extra col to simplify kernel\n",
    "    shape_arr = np.array(a.shape, dtype=np.int32)\n",
    "    block_size = cuda.Device(0).get_attributes()[cuda.device_attribute.MAX_BLOCK_DIM_X]\n",
    "    num_blocks = int(np.ceil(a.shape[0] / block_size))\n",
    "    \n",
    "    a_gpu = cuda.mem_alloc(a.nbytes)\n",
    "    cuda.memcpy_htod(a_gpu, a)\n",
    "    r_gpu = cuda.mem_alloc(r.nbytes)\n",
    "    cuda.memcpy_htod(r_gpu, r)\n",
    "    shape_gpu = cuda.mem_alloc(shape_arr.nbytes)\n",
    "    cuda.memcpy_htod(shape_gpu, shape_arr)\n",
    "    \n",
    "    %time func(a_gpu, r_gpu, shape_gpu, block=(block_size, 1, 1), grid=(num_blocks, 1, 1))\n",
    "    \n",
    "    a2 = np.empty_like(a)\n",
    "    cuda.memcpy_dtoh(a2, a_gpu)\n",
    "    return a2\n",
    "\n",
    "def shuffle_row_wise_numpy(a):\n",
    "    for i in range(a.shape[0]):\n",
    "        np.random.shuffle(a[i])"
   ]
  },
  {
   "cell_type": "code",
   "execution_count": null,
   "metadata": {
    "_uuid": "02ff915723a325450a61bdaf9da8f1c6a3956d38",
    "collapsed": true
   },
   "outputs": [],
   "source": [
    "arr = np.arange(5, dtype=np.int64).reshape(1, -1).repeat(50000, axis=0)\n",
    "print(arr[0])\n",
    "%time arr2 = shuffle_row_wise_cuda(arr)\n",
    "print(arr2)\n",
    "\n",
    "%time shuffle_row_wise_numpy(arr)\n",
    "print(arr)"
   ]
  },
  {
   "cell_type": "code",
   "execution_count": null,
   "metadata": {
    "_uuid": "0acd8b5708ec4951b1fb97dc31643f99b587d0c2",
    "collapsed": true
   },
   "outputs": [],
   "source": [
    "import pycuda.autoinit\n",
    "import pycuda.driver as cuda\n",
    "\n",
    "(free,total)=cuda.mem_get_info()\n",
    "print(\"Global memory occupancy:%f%% free\"%(free*100/total))\n",
    "\n",
    "for devicenum in range(cuda.Device.count()):\n",
    "    device=cuda.Device(devicenum)\n",
    "    attrs=device.get_attributes()\n",
    "\n",
    "    #Beyond this point is just pretty printing\n",
    "    print(\"\\n===Attributes for device %d\"%devicenum)\n",
    "    for (key,value) in attrs.items():\n",
    "        print(\"%s:%s\"%(str(key),str(value)))"
   ]
  }
 ],
 "metadata": {
  "kernelspec": {
   "display_name": "Python 3",
   "language": "python",
   "name": "python3"
  },
  "language_info": {
   "codemirror_mode": {
    "name": "ipython",
    "version": 3
   },
   "file_extension": ".py",
   "mimetype": "text/x-python",
   "name": "python",
   "nbconvert_exporter": "python",
   "pygments_lexer": "ipython3",
   "version": "3.6.3"
  }
 },
 "nbformat": 4,
 "nbformat_minor": 1
}
